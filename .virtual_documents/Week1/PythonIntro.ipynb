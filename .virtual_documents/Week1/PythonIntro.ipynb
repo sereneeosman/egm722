


import sys
print(sys.version)





print("Hello, World!")





# assign an object/variable using =
foo = 'Hello, World!'
print(foo) # print the value of the object to the screen using print





help(print)





print?








print(Foo) # this won't work, because we haven't created an object called Foo yet





3var = "this won't work"





x = 2
y = 3

print(f"x + y = {(x+y)}") # print the value of x + y (addition) 5
print(f"x - y = {(x-y)}") # print the value of x - y (subtraction) -1
print(f"x * y = {(x*y)}") # print the value of x * y (multiplication) 6
print(f"x / y = {(x/y)}") # print the value of x / y (division) 0.666
print(f"x // y = {(x//y)}") # print the value of x // y (floor division)
print(f"x ** y = {(x**y)}") # print the value of x ** y (exponentiation)
print(f"x % y = {(x%y)}") # print the value of x % y (modular division)
print(f"x ^ y = {(x^y)}") # print the value of x ^ y (bitwise XOR)





foo[0]





foo[0.0] # slice indices have to be integers, not floats!





foo[2] # get the 3rd character in foo





foo[-1] # get the last character in myString





foo[1:5]





foo.find('W') # find the index of the character W in myString





foo.find('l') # will tell us the index of the first 





# insert your code to find the index of the last l here





foo.find('a') # what will this return?





newString = "Hello" + "World!"
repString = "Hello" * 5

print(f'newString is: {new_string}')
print(f'repString is: {rep_string}')





fruits = ["Apple", "Banana", "Melon", "Grapes", "Raspberries"]
print(fruits)





print() #insert the correct command inside the ()





fruits[2:-1] # think about what this output will look like





fruits[2:-1][0] # what will this show?





fruits[2:-1][0][-1]





print('using the ** operator: {}'.format(2**8))
print('using the pow() function: {}'.format(pow(2, 8)))





print(dir(__builtins__)) # show a list of all of the builtin functions





for ii in range(start, stop, step): # modify this to print out a list of numbers 10, 9, 8, ... 0.
    print(ii)





topic = "Geographic Information Systems"
print(topic.count("i"))
print(topic.count("s"))





help(topic.split)





singlespace = 'Geographic Information Systems'
multispace = 'Geographic   Information  Systems'

print(singlespace.split())
print(multispace.split())





print(singlespace.split(' ')) # split on a single space
print(multispace.split(' ')) # split on a single space





topic = 'Remote Sensing and Geographic Information Systems'
print(topic.split('s')) # edit this line to get the result shown above





from math import pi # import the constant pi from the math module

def circle_area(radius):
    area = pi * radius ** 2 # calculate the area of the circle using the radius argument
    return area # use return to get a value back from the function

circle_area(10) # get the area of a circle with radius 10 (should be 314.15926 ...)





def sphere_area(radius):
    # your code goes here!

def sphere_volume(radius)
    # your code goes here!

print(sphere_area(10)) # get the surface area of a sphere with radius 10 (should be 1256.637)
print(sphere_volume(10)) # get the volume of a sphere with radius 10 (should be 4188.79)





def pos_neg_zero(x): # a function to tell us whether a number is positive, negative, or 0
    if x > 0: # if x > 0, print that it is positive
        print(f'{x} is a positive number')
    elif x < 0: # if x < 0, print that it is negative
        print(f'{x} is a negative number')
    else: # if 
        print(f'{x} is zero')





pos_neg_zero(-1) # a negative number
pos_neg_zero(1) # a positive number
pos_neg_zero(False) # a weird one





def which_is_greater(x, y):
    pass # replace this line with your code





which_is_greater(2, 1) # say which is greater, 2 or 1
which_is_greater(10, 100) # say which is greater, 10 or 100





def countdown(n):
    while n > 0:
        print(n)
        n -= 1 # note that this is the same as n = n - 1
    print("Blastoff!")
    
countdown(5)





def countdown_for(n):
    for ii in range(n, 0, -1):
        print(ii)
    print("Blastoff!")

countdown_for(5) # run the function to count down from 5





def break_example(n):
    # prints values from n to 1, then Blastoff!
    while True:  # here, the loop will always run
    # unless we reach a condition 
    # that breaks out of it:
        if n <= 0:
            break
        print(n)
        n -= 1
    print("Blastoff!")

break_example(5) # run the function to count down from 5





def continue_example(n):
    # given an integer, n, prints the values from 0 to n that are even.
    for x in range(n):
        if x % 2 == 1:
            continue
        print('{} is even'.format(x))

continue_example(10) # print the even integers from 0 to 9 (remember that range(n) is not inclusive!)





def evenNoThreesorFours(n):
    # given an integer n, prints values from 1 to n that are even, unless they are divisible by 3 or 4.
    for x in range(1, n):
        pass # your code goes here








import math # import the entire math module

print(math.pi) # print the value of math.pi





print(f'math.floor(10.19) is equal to: {math.floor(10.19)}') # print the output of math.floor(10.19)
print(f'floor(10.19) is equal to:      {floor(10.19)}') # print the output of floor(10.19)





from math import pi, floor, sin, cos, tan # import pi, floor, sin, cos, and tan from math





import geopandas as gpd
glacier_data = gpd.read_file('data_files/Glaciers.shp')








glacier_data.head() # show the first 5 rows of the table





rows, cols = glacier_data.shape # get the number of rows, columns in the table
print('Number of features: {}'.format(rows))





print('Number of features: {}'.format(len(glacier_data))) # should give us the same as before





glacier_data.columns # see the names of the columns in our table





glacier_data['AREA'].mean() # get the mean value of the AREA column





glacier_data['AREA'] = glacier_data['AREA'] * 1e6 * 3.2808399 * 3.2808399 # km2 x m2/km2 X ft/m x ft/m
glacier_data['AREA'].mean()





glacier_data['AREA_SQKM'] = glacier_data['AREA'] / 1e6 / 3.2808399 / 3.2808399  # the reverse of the above
glacier_data['AREA_SQKM'].mean()





import pandas as pd
import geopandas as gpd
from shapely.geometry import Point

df = pd.read_csv('data_files/GPSPoints.txt')





df.head()





df['geometry'] = list(zip(df['lon'], df['lat'])) # zip is an iterator, so we use list to create 
                                                 # something that pandas can use.
df['geometry'] = df['geometry'].apply(Point) # using the 'apply' method of the dataframe, 
                                             # turn the coordinates column
                                             # into points (instead of a tuple of lat, lon coordinates).
                                             # NB: Point takes (x, y) coordinates





df





del df['lat'], df['lon'] # we don't really need these, since they're in the 'geometry' column now





df['area'] # modify this cell to convert the area column to square meters here





gdf = gpd.GeoDataFrame(df)





gdf = gdf.set_crs("EPSG:4326") # this sets the coordinate reference system to epsg:4326, wgs84 lat/lon





gdf





gdf.to_file('lake_points.shp')



